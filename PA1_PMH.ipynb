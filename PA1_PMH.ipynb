{
 "cells": [
  {
   "cell_type": "markdown",
   "id": "aa3805a7-3cf4-4d1d-a932-5ff1bb114c0f",
   "metadata": {},
   "source": [
    "**Programming Assignment 1**\n",
    "\n",
    "Author: Paige Hoyer  \n",
    "Version: 1.0  \n",
    "Semester: Spring 2024 \n",
    "\n",
    "This file contains my solution to Programming Assignment 1, Problem 1-2\n"
   ]
  },
  {
   "cell_type": "markdown",
   "id": "e6fafed2-ee7b-467e-8817-06ef691ee031",
   "metadata": {},
   "source": [
    "### Problem 1 - Manipulationg Numbers"
   ]
  },
  {
   "cell_type": "code",
   "execution_count": 21,
   "id": "1e7d68d3-6e8d-41cf-bba9-f75c83586c7a",
   "metadata": {
    "tags": []
   },
   "outputs": [
    {
     "name": "stdin",
     "output_type": "stream",
     "text": [
      "Enter a number:  44.3\n"
     ]
    }
   ],
   "source": [
    "inputa = input(\"Enter a number: \")"
   ]
  },
  {
   "cell_type": "code",
   "execution_count": 22,
   "id": "95b57663-46de-452c-ab97-febf634c91e0",
   "metadata": {
    "tags": []
   },
   "outputs": [],
   "source": [
    "float_value = float(inputa)"
   ]
  },
  {
   "cell_type": "code",
   "execution_count": 25,
   "id": "a503e768-0d9a-41dc-a3df-de08899bad63",
   "metadata": {
    "tags": []
   },
   "outputs": [
    {
     "data": {
      "text/plain": [
       "float"
      ]
     },
     "execution_count": 25,
     "metadata": {},
     "output_type": "execute_result"
    }
   ],
   "source": [
    "type(float_value)"
   ]
  },
  {
   "cell_type": "code",
   "execution_count": 26,
   "id": "788ae8ed-acfc-47db-a750-d42e19444a5a",
   "metadata": {
    "tags": []
   },
   "outputs": [
    {
     "name": "stdin",
     "output_type": "stream",
     "text": [
      "Enter a number:  16\n"
     ]
    }
   ],
   "source": [
    "inputb = input(\"Enter a number: \")"
   ]
  },
  {
   "cell_type": "code",
   "execution_count": 27,
   "id": "3c3abc26-28e2-495b-9ca5-8ed21c5ac6d1",
   "metadata": {
    "tags": []
   },
   "outputs": [],
   "source": [
    "integer_value = int(inputb)"
   ]
  },
  {
   "cell_type": "code",
   "execution_count": 30,
   "id": "725b0eb2-89e2-44dd-a65b-29d4fa71c4db",
   "metadata": {
    "tags": []
   },
   "outputs": [
    {
     "data": {
      "text/plain": [
       "int"
      ]
     },
     "execution_count": 30,
     "metadata": {},
     "output_type": "execute_result"
    }
   ],
   "source": [
    "type(integer_value)"
   ]
  },
  {
   "cell_type": "code",
   "execution_count": 31,
   "id": "af828310-364d-406a-b314-e9605f2b6226",
   "metadata": {
    "tags": []
   },
   "outputs": [],
   "source": [
    "result = float_value + integer_value"
   ]
  },
  {
   "cell_type": "code",
   "execution_count": 32,
   "id": "21026f1a-9146-4f1a-9532-920d47bb138c",
   "metadata": {
    "tags": []
   },
   "outputs": [
    {
     "name": "stdout",
     "output_type": "stream",
     "text": [
      "The sum is: 60.3\n"
     ]
    }
   ],
   "source": [
    "print(\"The sum is:\", result)"
   ]
  },
  {
   "cell_type": "code",
   "execution_count": 33,
   "id": "e6909dac-56ac-4937-88c0-cc3f0a76cf8b",
   "metadata": {
    "tags": []
   },
   "outputs": [],
   "source": [
    "product = float_value * integer_value"
   ]
  },
  {
   "cell_type": "code",
   "execution_count": 34,
   "id": "f8ce992c-9cc4-4ffe-95f0-ce400d51b643",
   "metadata": {
    "tags": []
   },
   "outputs": [
    {
     "name": "stdout",
     "output_type": "stream",
     "text": [
      "The product is: 708.8\n"
     ]
    }
   ],
   "source": [
    "print(\"The product is:\", product)"
   ]
  },
  {
   "cell_type": "code",
   "execution_count": 35,
   "id": "8e82c578-c715-49f8-b06b-02aa921dcfa4",
   "metadata": {
    "tags": []
   },
   "outputs": [],
   "source": [
    "quotient = float_value / integer_value"
   ]
  },
  {
   "cell_type": "code",
   "execution_count": 37,
   "id": "cddc1374-1a62-44d6-86ae-cc3d15bdedf8",
   "metadata": {
    "tags": []
   },
   "outputs": [
    {
     "name": "stdout",
     "output_type": "stream",
     "text": [
      "The quotient is: 2.76875\n"
     ]
    }
   ],
   "source": [
    "print(\"The quotient is:\", quotient)"
   ]
  },
  {
   "cell_type": "code",
   "execution_count": 38,
   "id": "3a339d4c-eb27-41dc-a6f9-21a0cfee9314",
   "metadata": {
    "tags": []
   },
   "outputs": [],
   "source": [
    "difference = float_value - integer_value"
   ]
  },
  {
   "cell_type": "code",
   "execution_count": 39,
   "id": "3f0604b6-9c94-4aa0-9686-0bb9f7ba640b",
   "metadata": {
    "tags": []
   },
   "outputs": [
    {
     "name": "stdout",
     "output_type": "stream",
     "text": [
      "The difference is: 28.299999999999997\n"
     ]
    }
   ],
   "source": [
    "print (\"The difference is:\", difference)"
   ]
  },
  {
   "cell_type": "markdown",
   "id": "ab099865-a46c-4313-af87-c4e5eed76f72",
   "metadata": {},
   "source": [
    "### Problem 2 - Calculating Target Heart Rate"
   ]
  },
  {
   "cell_type": "code",
   "execution_count": 47,
   "id": "9a89bb05-1cc3-44bd-bf18-88779997a269",
   "metadata": {
    "tags": []
   },
   "outputs": [
    {
     "name": "stdin",
     "output_type": "stream",
     "text": [
      "enter your age:  19\n"
     ]
    }
   ],
   "source": [
    "age = input(\"enter your age: \")"
   ]
  },
  {
   "cell_type": "code",
   "execution_count": 52,
   "id": "1844de5b-0acf-424a-bfb9-3bea024e5f9c",
   "metadata": {
    "tags": []
   },
   "outputs": [],
   "source": [
    "age = int(age)"
   ]
  },
  {
   "cell_type": "code",
   "execution_count": 54,
   "id": "5b377687-4ee0-4b1f-8d52-b1abda649242",
   "metadata": {
    "tags": []
   },
   "outputs": [],
   "source": [
    "MHR = 220 - age"
   ]
  },
  {
   "cell_type": "code",
   "execution_count": 55,
   "id": "84c2ed8d-bc77-4b23-86b2-4ec32a996cfe",
   "metadata": {
    "tags": []
   },
   "outputs": [
    {
     "name": "stdout",
     "output_type": "stream",
     "text": [
      "The persons max heart rate is: 201\n"
     ]
    }
   ],
   "source": [
    "print (\"The persons max heart rate is:\", MHR)"
   ]
  },
  {
   "cell_type": "code",
   "execution_count": 57,
   "id": "a4364db7-0a4d-4087-a82d-e4c562c81e29",
   "metadata": {
    "tags": []
   },
   "outputs": [],
   "source": [
    "LHR = .50 * MHR"
   ]
  },
  {
   "cell_type": "code",
   "execution_count": 60,
   "id": "147890a5-4f9c-47b1-8079-f378abd093e4",
   "metadata": {
    "tags": []
   },
   "outputs": [
    {
     "name": "stdout",
     "output_type": "stream",
     "text": [
      "The persons lower heart rate limit for exercise is: 100.5\n"
     ]
    }
   ],
   "source": [
    "print (\"The persons lower heart rate limit for exercise is:\", LHR)"
   ]
  },
  {
   "cell_type": "code",
   "execution_count": 59,
   "id": "0a4602bd-79fc-4db8-b2bc-e25f6e41238a",
   "metadata": {
    "tags": []
   },
   "outputs": [],
   "source": [
    "UHR = .85 * MHR"
   ]
  },
  {
   "cell_type": "code",
   "execution_count": 61,
   "id": "5814f821-ff64-4c51-b493-e85d39b85768",
   "metadata": {
    "tags": []
   },
   "outputs": [
    {
     "name": "stdout",
     "output_type": "stream",
     "text": [
      "The persons upper heart rate limit for exercise is: 170.85\n"
     ]
    }
   ],
   "source": [
    "print (\"The persons upper heart rate limit for exercise is:\", UHR)"
   ]
  }
 ],
 "metadata": {
  "kernelspec": {
   "display_name": "Python 3 (ipykernel)",
   "language": "python",
   "name": "python3"
  },
  "language_info": {
   "codemirror_mode": {
    "name": "ipython",
    "version": 3
   },
   "file_extension": ".py",
   "mimetype": "text/x-python",
   "name": "python",
   "nbconvert_exporter": "python",
   "pygments_lexer": "ipython3",
   "version": "3.11.5"
  }
 },
 "nbformat": 4,
 "nbformat_minor": 5
}
